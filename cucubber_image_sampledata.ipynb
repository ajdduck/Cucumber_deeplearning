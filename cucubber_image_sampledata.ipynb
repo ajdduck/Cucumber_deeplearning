{
  "nbformat": 4,
  "nbformat_minor": 0,
  "metadata": {
    "colab": {
      "name": "cucubber_image_sampledata.ipynb",
      "provenance": [],
      "mount_file_id": "1Rijjb5-0ubBIc8pIz9Z1eKtroxdIbseL",
      "authorship_tag": "ABX9TyOFI2w5U+lWonPZWy1NPfPi",
      "include_colab_link": true
    },
    "kernelspec": {
      "name": "python3",
      "display_name": "Python 3"
    },
    "accelerator": "GPU"
  },
  "cells": [
    {
      "cell_type": "markdown",
      "metadata": {
        "id": "view-in-github",
        "colab_type": "text"
      },
      "source": [
        "<a href=\"https://colab.research.google.com/github/ajdduck/Cucumber_deeplearning/blob/master/cucubber_image_sampledata.ipynb\" target=\"_parent\"><img src=\"https://colab.research.google.com/assets/colab-badge.svg\" alt=\"Open In Colab\"/></a>"
      ]
    },
    {
      "cell_type": "code",
      "metadata": {
        "id": "2d7mdhY4HW1R",
        "colab_type": "code",
        "colab": {}
      },
      "source": [
        "import sys"
      ],
      "execution_count": 0,
      "outputs": []
    },
    {
      "cell_type": "code",
      "metadata": {
        "id": "BHpdEhTKHZTQ",
        "colab_type": "code",
        "colab": {}
      },
      "source": [
        "sys.path.insert(0, \"/content/drive/My Drive/Colab Notebooks/Cucumber_module\")"
      ],
      "execution_count": 0,
      "outputs": []
    },
    {
      "cell_type": "code",
      "metadata": {
        "id": "_KIOheI9HjOJ",
        "colab_type": "code",
        "colab": {}
      },
      "source": [
        "%matplotlib inline\n",
        "import matplotlib.pyplot as plt\n",
        "import tensorflow as tf\n",
        "import numpy as np\n",
        "from sklearn.metrics import confusion_matrix\n",
        "import time\n",
        "from datetime import timedelta\n",
        "import math\n",
        "import os\n",
        "import random"
      ],
      "execution_count": 0,
      "outputs": []
    },
    {
      "cell_type": "code",
      "metadata": {
        "id": "fw4Kd5IGHmXY",
        "colab_type": "code",
        "colab": {}
      },
      "source": [
        "import cifar10"
      ],
      "execution_count": 0,
      "outputs": []
    },
    {
      "cell_type": "code",
      "metadata": {
        "id": "qjB4PrrOHpEy",
        "colab_type": "code",
        "colab": {
          "base_uri": "https://localhost:8080/",
          "height": 34
        },
        "outputId": "622d543f-ca3f-44b5-91ec-69f7c2910b29"
      },
      "source": [
        "cifar10.maybe_download_and_extract()"
      ],
      "execution_count": 5,
      "outputs": [
        {
          "output_type": "stream",
          "text": [
            "Data has apparently already been downloaded and unpacked.\n"
          ],
          "name": "stdout"
        }
      ]
    },
    {
      "cell_type": "code",
      "metadata": {
        "id": "4cGjZpaSHsda",
        "colab_type": "code",
        "colab": {
          "base_uri": "https://localhost:8080/",
          "height": 51
        },
        "outputId": "b81851d3-8cf2-426d-9b35-d437a91a7d6d"
      },
      "source": [
        "class_names = cifar10.load_class_names()\n",
        "class_names"
      ],
      "execution_count": 6,
      "outputs": [
        {
          "output_type": "stream",
          "text": [
            "Loading data: data/CUCUMBER-9/cucumber-9-python/batches.meta\n"
          ],
          "name": "stdout"
        },
        {
          "output_type": "execute_result",
          "data": {
            "text/plain": [
              "['2L', 'BM', 'BL', 'M', 'S', 'L', '2S', 'BS', 'C']"
            ]
          },
          "metadata": {
            "tags": []
          },
          "execution_count": 6
        }
      ]
    },
    {
      "cell_type": "code",
      "metadata": {
        "id": "E9w-uslAIgpE",
        "colab_type": "code",
        "colab": {
          "base_uri": "https://localhost:8080/",
          "height": 136
        },
        "outputId": "7d576b3f-06e2-4431-91dc-f4d68baa1d33"
      },
      "source": [
        "cucumber = cifar10.load_data()"
      ],
      "execution_count": 16,
      "outputs": [
        {
          "output_type": "stream",
          "text": [
            "Loading data: data/CUCUMBER-9/cucumber-9-python/batches.meta\n",
            "Loading data: data/CUCUMBER-9/cucumber-9-python/data_batch_1\n",
            "Loading data: data/CUCUMBER-9/cucumber-9-python/data_batch_2\n",
            "Loading data: data/CUCUMBER-9/cucumber-9-python/data_batch_3\n",
            "Loading data: data/CUCUMBER-9/cucumber-9-python/data_batch_4\n",
            "Loading data: data/CUCUMBER-9/cucumber-9-python/data_batch_5\n",
            "Loading data: data/CUCUMBER-9/cucumber-9-python/test_batch\n"
          ],
          "name": "stdout"
        }
      ]
    },
    {
      "cell_type": "code",
      "metadata": {
        "id": "hludWap4WCzR",
        "colab_type": "code",
        "colab": {
          "base_uri": "https://localhost:8080/",
          "height": 266
        },
        "outputId": "8ffb4978-efc0-425a-946e-db9cb2df9d9e"
      },
      "source": [
        "r = random.randint(0, cucumber.test.num_examples - 1)\n",
        "plt.imshow(cucumber.test.images[r:r + 1].reshape(32, 32, 3), cmap='Greys', interpolation='nearest')\n",
        "plt.show()"
      ],
      "execution_count": 21,
      "outputs": [
        {
          "output_type": "display_data",
          "data": {
            "image/png": "[encoded data removed]",
            "text/plain": [
              "<Figure size 432x288 with 1 Axes>"
            ]
          },
          "metadata": {
            "tags": [],
            "needs_background": "light"
          }
        }
      ]
    },
    {
      "cell_type": "code",
      "metadata": {
        "id": "D0Z23__mV0UE",
        "colab_type": "code",
        "colab": {}
      },
      "source": [
        ""
      ],
      "execution_count": 0,
      "outputs": []
    }
  ]
}