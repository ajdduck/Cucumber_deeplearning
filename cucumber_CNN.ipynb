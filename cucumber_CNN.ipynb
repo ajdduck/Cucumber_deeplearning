{
  "nbformat": 4,
  "nbformat_minor": 0,
  "metadata": {
    "colab": {
      "name": "cucumber_CNN",
      "provenance": [],
      "mount_file_id": "1WdfW6C6CyWc87rWayMkeqQLq2wLML0GF",
      "authorship_tag": "ABX9TyMVnlI+Vv6RSKqZI7JEEdAH",
      "include_colab_link": true
    },
    "kernelspec": {
      "name": "python3",
      "display_name": "Python 3"
    },
    "accelerator": "GPU"
  },
  "cells": [
    {
      "cell_type": "markdown",
      "metadata": {
        "id": "view-in-github",
        "colab_type": "text"
      },
      "source": [
        "<a href=\"https://colab.research.google.com/github/ajdduck/DeepLearning_Cucumber/blob/master/cucumber_CNN.ipynb\" target=\"_parent\"><img src=\"https://colab.research.google.com/assets/colab-badge.svg\" alt=\"Open In Colab\"/></a>"
      ]
    },
    {
      "cell_type": "code",
      "metadata": {
        "id": "KspAe0Fzw92B",
        "colab_type": "code",
        "colab": {}
      },
      "source": [
        "import pickle\n",
        "import os\n",
        "import numpy as np\n",
        "import matplotlib.pyplot as plt"
      ],
      "execution_count": 0,
      "outputs": []
    },
    {
      "cell_type": "code",
      "metadata": {
        "id": "VS-JrnZRy9Bu",
        "colab_type": "code",
        "colab": {}
      },
      "source": [
        "DATA_PATH = \"/content/drive/My Drive/cucumber-9-python\"\n",
        "\n",
        "def one_hot(vec, vals = 9):\n",
        "  n = len(vec)\n",
        "  out = np.zeros((n, vals))\n",
        "  out[range(n), vec] = 1\n",
        "  return out"
      ],
      "execution_count": 0,
      "outputs": []
    },
    {
      "cell_type": "code",
      "metadata": {
        "id": "FNVcqZHa0sa1",
        "colab_type": "code",
        "colab": {}
      },
      "source": [
        "def unpickle(file):\n",
        "  with open(os.path.join(DATA_PATH, file), 'rb') as fo:\n",
        "    u = pickle._Unpickler(fo)\n",
        "    u.encoding = 'latin1'\n",
        "    dict = u.load()\n",
        "\n",
        "    return dict"
      ],
      "execution_count": 0,
      "outputs": []
    },
    {
      "cell_type": "code",
      "metadata": {
        "id": "I51_fgK86Sm0",
        "colab_type": "code",
        "colab": {}
      },
      "source": [
        "def display_cucumber(images, size):\n",
        "    n = len(images)\n",
        "    plt.figure()\n",
        "    plt.gca().set_axis_off()\n",
        "    im = np.vstack([np.hstack([images[np.random.choice(n)] for i in range(size)])\n",
        "                    for i in range(size)])\n",
        "    plt.imshow(im)\n",
        "    plt.show()"
      ],
      "execution_count": 0,
      "outputs": []
    },
    {
      "cell_type": "code",
      "metadata": {
        "id": "XpZR_Wzc7V5N",
        "colab_type": "code",
        "colab": {}
      },
      "source": [
        "class CucumberLoader(object):\n",
        "  def __init__(self, source_files):\n",
        "    self._source = source_files\n",
        "    self._i = 0\n",
        "    self.images = None\n",
        "    self.labels = None\n",
        "\n",
        "  def load(self):\n",
        "    data = [unpickle(f) for f in self._source]\n",
        "    images = np.vstack([d[\"data\"] for d in data])\n",
        "    n = len(images)\n",
        "    self.images = images.reshape(-1, 3, 32, 32).transpose(0, 2, 3, 1).astype(float) / 255\n",
        "    self.labels = one_hot(np.hstack([d[\"labels\"] for d in data]), 9)\n",
        "    return self\n",
        "\n",
        "  def next_batch(self, batch_size):\n",
        "    x, y = self.images[self._i:self._i+batch_size],\n",
        "    self.labels[self._i:self._i+batch_size]\n",
        "    self._i = (self._i + batch_size) % len(self.images)\n",
        "    return x, y\n",
        "\n",
        "  def next_batch(self, batch_size):\n",
        "        x, y = self.images[self._i:self._i+batch_size], \\\n",
        "               self.labels[self._i:self._i+batch_size]\n",
        "        self._i = (self._i + batch_size) % len(self.images)\n",
        "        return x, y"
      ],
      "execution_count": 0,
      "outputs": []
    },
    {
      "cell_type": "code",
      "metadata": {
        "id": "aJvFhWlva4Gs",
        "colab_type": "code",
        "colab": {}
      },
      "source": [
        "cifar_10 = ['data_batch_1', 'data_batch_2', 'data_batch_3', 'data_batch_4', 'data_batch_5', 'test_batch']"
      ],
      "execution_count": 0,
      "outputs": []
    },
    {
      "cell_type": "code",
      "metadata": {
        "id": "t3pc3RdPLG8u",
        "colab_type": "code",
        "colab": {}
      },
      "source": [
        "class CucumberDataManager(object):\n",
        "  def __init__(self):\n",
        "    self.train = CucumberLoader(['data_batch_1', 'data_batch_2', 'data_batch_3', 'data_batch_4', 'data_batch_5']).load()\n",
        "    self.test = CucumberLoader([\"test_batch\"]).load()"
      ],
      "execution_count": 0,
      "outputs": []
    },
    {
      "cell_type": "code",
      "metadata": {
        "id": "rWRucMn4LcJo",
        "colab_type": "code",
        "outputId": "e8ac0d86-1c76-4c31-a743-dafc655e1227",
        "colab": {
          "base_uri": "https://localhost:8080/",
          "height": 34
        }
      },
      "source": [
        "unpickle(\"data_batch_1\").keys()"
      ],
      "execution_count": 0,
      "outputs": [
        {
          "output_type": "execute_result",
          "data": {
            "text/plain": [
              "dict_keys(['data', 'labels', 'batch_label', 'filenames'])"
            ]
          },
          "metadata": {
            "tags": []
          },
          "execution_count": 8
        }
      ]
    },
    {
      "cell_type": "code",
      "metadata": {
        "id": "ikif4qWDfBV8",
        "colab_type": "code",
        "colab": {}
      },
      "source": [
        "cucumber = CucumberDataManager()"
      ],
      "execution_count": 0,
      "outputs": []
    },
    {
      "cell_type": "code",
      "metadata": {
        "id": "L72jWg3sRMY9",
        "colab_type": "code",
        "colab": {}
      },
      "source": [
        "images = cucumber.train.images"
      ],
      "execution_count": 0,
      "outputs": []
    },
    {
      "cell_type": "code",
      "metadata": {
        "id": "_FmD7FOyVwSz",
        "colab_type": "code",
        "outputId": "af90d3bd-73c5-4b82-ea94-73606962baad",
        "colab": {
          "base_uri": "https://localhost:8080/",
          "height": 248
        }
      },
      "source": [
        "display_cucumber(images, 10)"
      ],
      "execution_count": 0,
      "outputs": [
        {
          "output_type": "display_data",
          "data": {
            "image/png": "[encoded data removed]",
            "text/plain": [
              "<Figure size 432x288 with 1 Axes>"
            ]
          },
          "metadata": {
            "tags": [],
            "needs_background": "light"
          }
        }
      ]
    },
    {
      "cell_type": "code",
      "metadata": {
        "id": "63lARBObYtTe",
        "colab_type": "code",
        "colab": {}
      },
      "source": [
        "%tensorflow_version 1.x\n",
        "import tensorflow as tf\n",
        "import random"
      ],
      "execution_count": 0,
      "outputs": []
    },
    {
      "cell_type": "code",
      "metadata": {
        "id": "nhaAvsBqkeNt",
        "colab_type": "code",
        "colab": {}
      },
      "source": [
        "x = tf.placeholder(tf.float32, shape=[None, 32, 32, 3])\n",
        "y = tf.placeholder(tf.float32, shape = [None, 9])\n",
        "\n",
        "keep_prob = tf.placeholder(tf.float32)"
      ],
      "execution_count": 0,
      "outputs": []
    },
    {
      "cell_type": "code",
      "metadata": {
        "id": "bhwuiNtup0Df",
        "colab_type": "code",
        "outputId": "90013cfd-329d-4b53-e3ba-5aed9bcbac05",
        "colab": {
          "base_uri": "https://localhost:8080/",
          "height": 88
        }
      },
      "source": [
        "W1 = tf.Variable(tf.random_normal([5, 5, 3, 32], stddev=0.1))\n",
        "\n",
        "L1 = tf.nn.conv2d(x, W1, strides=[1, 1, 1, 1], padding = 'SAME')\n",
        "L1 = tf.nn.relu(L1)\n",
        "L1 = tf.nn.max_pool(L1, ksize=[1, 2, 2, 1], strides=[1, 2, 2, 1], padding='SAME')\n",
        "L1 = tf.nn.dropout(L1, keep_prob=keep_prob)"
      ],
      "execution_count": 0,
      "outputs": [
        {
          "output_type": "stream",
          "text": [
            "WARNING:tensorflow:From <ipython-input-14-2daa9e4ff7a1>:6: calling dropout (from tensorflow.python.ops.nn_ops) with keep_prob is deprecated and will be removed in a future version.\n",
            "Instructions for updating:\n",
            "Please use `rate` instead of `keep_prob`. Rate should be set to `rate = 1 - keep_prob`.\n"
          ],
          "name": "stdout"
        }
      ]
    },
    {
      "cell_type": "code",
      "metadata": {
        "id": "Ri5NWYB8laDi",
        "colab_type": "code",
        "colab": {}
      },
      "source": [
        "W2 = tf.Variable(tf.random_normal([5, 5, 32, 64], stddev=0.1))\n",
        "\n",
        "L2= tf.nn.conv2d(L1, W2, strides=[1, 1, 1, 1], padding = 'SAME')\n",
        "L2 = tf.nn.relu(L2)\n",
        "L2 = tf.nn.max_pool(L2, ksize=[1, 2, 2, 1], strides=[1, 2, 2, 1], padding='SAME')\n",
        "L2 = tf.nn.dropout(L2, keep_prob=keep_prob)"
      ],
      "execution_count": 0,
      "outputs": []
    },
    {
      "cell_type": "code",
      "metadata": {
        "id": "h7ygnhhH5_xG",
        "colab_type": "code",
        "colab": {}
      },
      "source": [
        "W3 = tf.Variable(tf.random_normal([5, 5, 64, 128], stddev=0.1))\n",
        "\n",
        "L3= tf.nn.conv2d(L2, W3, strides=[1, 1, 1, 1], padding = 'SAME')\n",
        "L3 = tf.nn.relu(L3)\n",
        "L3 = tf.nn.max_pool(L3, ksize=[1, 2, 2, 1], strides=[1, 2, 2, 1], padding='SAME')\n",
        "L3 = tf.nn.dropout(L3, keep_prob=keep_prob)\n",
        "L3 = tf.reshape(L3, [-1, 4*4*128])"
      ],
      "execution_count": 0,
      "outputs": []
    },
    {
      "cell_type": "code",
      "metadata": {
        "id": "RI7bCNnQrb5_",
        "colab_type": "code",
        "outputId": "da6dea1d-ceb9-4422-f05e-81f551a35824",
        "colab": {
          "base_uri": "https://localhost:8080/",
          "height": 153
        }
      },
      "source": [
        "W4 = tf.get_variable(\"W4\", shape=[4*4*128, 320], initializer=tf.contrib.layers.xavier_initializer())\n",
        "b4 = tf.Variable(tf.random_normal([320]))\n",
        "\n",
        "L4 = tf.nn.relu(tf.matmul(L3, W4) + b4)\n",
        "L4 = tf.nn.dropout(L4, keep_prob=keep_prob)"
      ],
      "execution_count": 0,
      "outputs": [
        {
          "output_type": "stream",
          "text": [
            "WARNING:tensorflow:\n",
            "The TensorFlow contrib module will not be included in TensorFlow 2.0.\n",
            "For more information, please see:\n",
            "  * https://github.com/tensorflow/community/blob/master/rfcs/20180907-contrib-sunset.md\n",
            "  * https://github.com/tensorflow/addons\n",
            "  * https://github.com/tensorflow/io (for I/O related ops)\n",
            "If you depend on functionality not listed there, please file an issue.\n",
            "\n"
          ],
          "name": "stdout"
        }
      ]
    },
    {
      "cell_type": "code",
      "metadata": {
        "id": "-jQwXn1c9NP5",
        "colab_type": "code",
        "colab": {}
      },
      "source": [
        "W5 = tf.get_variable(\"W5\", shape=[320, 9],\n",
        "                     initializer=tf.contrib.layers.xavier_initializer())\n",
        "b5 = tf.Variable(tf.random_normal([9]))\n",
        "logits = tf.matmul(L4, W5) + b5"
      ],
      "execution_count": 0,
      "outputs": []
    },
    {
      "cell_type": "code",
      "metadata": {
        "id": "9uTno92rsX19",
        "colab_type": "code",
        "colab": {}
      },
      "source": [
        "cost = tf.reduce_mean(tf.nn.softmax_cross_entropy_with_logits_v2(logits = logits, labels = y))\n",
        "optimizer = tf.train.AdamOptimizer(learning_rate=1e-3).minimize(cost)"
      ],
      "execution_count": 0,
      "outputs": []
    },
    {
      "cell_type": "code",
      "metadata": {
        "id": "LlIyEktmucCN",
        "colab_type": "code",
        "outputId": "6a69eebf-224a-4cef-b786-3e0114140358",
        "colab": {
          "base_uri": "https://localhost:8080/",
          "height": 1000
        }
      },
      "source": [
        "sess = tf.Session()\n",
        "sess.run(tf.global_variables_initializer())\n",
        "\n",
        "for epoch in range(280):\n",
        "  avg_cost = 0\n",
        "  total_batch = 5\n",
        "  for i in range(5):\n",
        "    batch_xs, batch_ys = cucumber.train.next_batch(100)\n",
        "    feed_dict = {x: batch_xs, y: batch_ys, keep_prob: 0.7}\n",
        "    c, _, = sess.run([cost, optimizer], feed_dict=feed_dict)\n",
        "    avg_cost += c / total_batch\n",
        "\n",
        "  print('Epoch: ', '%04d' % (epoch + 1), 'cost= ', '{:.9f}'.format(avg_cost))\n",
        "\n",
        "correct_prediction = tf.equal(tf.argmax(logits, 1), tf.argmax(y, 1))\n",
        "accuracy = tf.reduce_mean(tf.cast(correct_prediction, tf.float32))\n",
        "print('Accuracy: ', sess.run(accuracy, feed_dict={x: cucumber.test.images, y: cucumber.test.labels, keep_prob: 1}))\n",
        "\n",
        "r = random.randint(0, len(cucumber.test.labels))\n",
        "print(\"Label: \", sess.run(tf.argmax(cucumber.test.labels[r:r + 1], 1)))\n",
        "print(\"Prediction: \", sess.run(tf.argmax(logits, 1), feed_dict={x: cucumber.test.images[r:r + 1], keep_prob: 1}))\n",
        "\n",
        "plt.imshow(cucumber.test.images[r:r + 1].\n",
        "           reshape(32, 32, 3), cmap='Greys', interpolation='nearest')\n",
        "plt.show()"
      ],
      "execution_count": 0,
      "outputs": [
        {
          "output_type": "stream",
          "text": [
            "Epoch:  0001 cost=  23.517634964\n",
            "Epoch:  0002 cost=  8.897129059\n",
            "Epoch:  0003 cost=  2.974771976\n",
            "Epoch:  0004 cost=  2.375934792\n",
            "Epoch:  0005 cost=  2.355570412\n",
            "Epoch:  0006 cost=  2.287537956\n",
            "Epoch:  0007 cost=  2.275758600\n",
            "Epoch:  0008 cost=  2.263969946\n",
            "Epoch:  0009 cost=  2.259550953\n",
            "Epoch:  0010 cost=  2.235437059\n",
            "Epoch:  0011 cost=  2.244678593\n",
            "Epoch:  0012 cost=  2.221878099\n",
            "Epoch:  0013 cost=  2.209011841\n",
            "Epoch:  0014 cost=  2.194339657\n",
            "Epoch:  0015 cost=  2.208317280\n",
            "Epoch:  0016 cost=  2.166037226\n",
            "Epoch:  0017 cost=  2.175373650\n",
            "Epoch:  0018 cost=  2.149071503\n",
            "Epoch:  0019 cost=  2.169633627\n",
            "Epoch:  0020 cost=  2.134606171\n",
            "Epoch:  0021 cost=  2.103639889\n",
            "Epoch:  0022 cost=  2.121610212\n",
            "Epoch:  0023 cost=  2.105226898\n",
            "Epoch:  0024 cost=  2.073452806\n",
            "Epoch:  0025 cost=  2.031072330\n",
            "Epoch:  0026 cost=  2.033952832\n",
            "Epoch:  0027 cost=  1.972379327\n",
            "Epoch:  0028 cost=  1.938731885\n",
            "Epoch:  0029 cost=  1.916952777\n",
            "Epoch:  0030 cost=  1.835412431\n",
            "Epoch:  0031 cost=  1.843390965\n",
            "Epoch:  0032 cost=  1.795214677\n",
            "Epoch:  0033 cost=  1.739475322\n",
            "Epoch:  0034 cost=  1.711913824\n",
            "Epoch:  0035 cost=  1.652101946\n",
            "Epoch:  0036 cost=  1.621974063\n",
            "Epoch:  0037 cost=  1.575156403\n",
            "Epoch:  0038 cost=  1.650849104\n",
            "Epoch:  0039 cost=  1.565445232\n",
            "Epoch:  0040 cost=  1.565561938\n",
            "Epoch:  0041 cost=  1.558380985\n",
            "Epoch:  0042 cost=  1.526460934\n",
            "Epoch:  0043 cost=  1.490479970\n",
            "Epoch:  0044 cost=  1.468732810\n",
            "Epoch:  0045 cost=  1.423974347\n",
            "Epoch:  0046 cost=  1.417961454\n",
            "Epoch:  0047 cost=  1.414892030\n",
            "Epoch:  0048 cost=  1.460958576\n",
            "Epoch:  0049 cost=  1.483441544\n",
            "Epoch:  0050 cost=  1.442142844\n",
            "Epoch:  0051 cost=  1.460845304\n",
            "Epoch:  0052 cost=  1.429252672\n",
            "Epoch:  0053 cost=  1.369495845\n",
            "Epoch:  0054 cost=  1.371208811\n",
            "Epoch:  0055 cost=  1.333001995\n",
            "Epoch:  0056 cost=  1.323436928\n",
            "Epoch:  0057 cost=  1.405854249\n",
            "Epoch:  0058 cost=  1.348086977\n",
            "Epoch:  0059 cost=  1.321829796\n",
            "Epoch:  0060 cost=  1.312426329\n",
            "Epoch:  0061 cost=  1.336592174\n",
            "Epoch:  0062 cost=  1.346030045\n",
            "Epoch:  0063 cost=  1.289099813\n",
            "Epoch:  0064 cost=  1.271595573\n",
            "Epoch:  0065 cost=  1.281304574\n",
            "Epoch:  0066 cost=  1.257432294\n",
            "Epoch:  0067 cost=  1.287959409\n",
            "Epoch:  0068 cost=  1.266791034\n",
            "Epoch:  0069 cost=  1.267796016\n",
            "Epoch:  0070 cost=  1.227469277\n",
            "Epoch:  0071 cost=  1.201629519\n",
            "Epoch:  0072 cost=  1.248057675\n",
            "Epoch:  0073 cost=  1.208367252\n",
            "Epoch:  0074 cost=  1.201037669\n",
            "Epoch:  0075 cost=  1.203856802\n",
            "Epoch:  0076 cost=  1.173245311\n",
            "Epoch:  0077 cost=  1.186735749\n",
            "Epoch:  0078 cost=  1.200994229\n",
            "Epoch:  0079 cost=  1.213081717\n",
            "Epoch:  0080 cost=  1.123590159\n",
            "Epoch:  0081 cost=  1.159154463\n",
            "Epoch:  0082 cost=  1.163791227\n",
            "Epoch:  0083 cost=  1.132454813\n",
            "Epoch:  0084 cost=  1.157111573\n",
            "Epoch:  0085 cost=  1.118298173\n",
            "Epoch:  0086 cost=  1.117624831\n",
            "Epoch:  0087 cost=  1.141321111\n",
            "Epoch:  0088 cost=  1.118463409\n",
            "Epoch:  0089 cost=  1.146194386\n",
            "Epoch:  0090 cost=  1.068978596\n",
            "Epoch:  0091 cost=  1.069279778\n",
            "Epoch:  0092 cost=  1.033579540\n",
            "Epoch:  0093 cost=  1.054787385\n",
            "Epoch:  0094 cost=  1.113573980\n",
            "Epoch:  0095 cost=  0.998416162\n",
            "Epoch:  0096 cost=  1.056155455\n",
            "Epoch:  0097 cost=  1.056520629\n",
            "Epoch:  0098 cost=  1.117010593\n",
            "Epoch:  0099 cost=  1.051909137\n",
            "Epoch:  0100 cost=  0.992814600\n",
            "Epoch:  0101 cost=  1.049727881\n",
            "Epoch:  0102 cost=  1.051348984\n",
            "Epoch:  0103 cost=  1.044015503\n",
            "Epoch:  0104 cost=  1.029657137\n",
            "Epoch:  0105 cost=  0.960345531\n",
            "Epoch:  0106 cost=  0.978349316\n",
            "Epoch:  0107 cost=  0.954886997\n",
            "Epoch:  0108 cost=  0.940871656\n",
            "Epoch:  0109 cost=  0.994994283\n",
            "Epoch:  0110 cost=  0.916761494\n",
            "Epoch:  0111 cost=  1.029883420\n",
            "Epoch:  0112 cost=  1.028549576\n",
            "Epoch:  0113 cost=  0.984354210\n",
            "Epoch:  0114 cost=  0.971484017\n",
            "Epoch:  0115 cost=  0.914753401\n",
            "Epoch:  0116 cost=  0.934345877\n",
            "Epoch:  0117 cost=  0.928838050\n",
            "Epoch:  0118 cost=  0.987783718\n",
            "Epoch:  0119 cost=  0.983481073\n",
            "Epoch:  0120 cost=  0.893423510\n",
            "Epoch:  0121 cost=  0.978960896\n",
            "Epoch:  0122 cost=  0.906992424\n",
            "Epoch:  0123 cost=  0.966118038\n",
            "Epoch:  0124 cost=  0.913490093\n",
            "Epoch:  0125 cost=  0.928576374\n",
            "Epoch:  0126 cost=  0.941392159\n",
            "Epoch:  0127 cost=  0.908771229\n",
            "Epoch:  0128 cost=  0.961502278\n",
            "Epoch:  0129 cost=  0.930767894\n",
            "Epoch:  0130 cost=  0.903213406\n",
            "Epoch:  0131 cost=  0.842600071\n",
            "Epoch:  0132 cost=  0.887345910\n",
            "Epoch:  0133 cost=  0.912646174\n",
            "Epoch:  0134 cost=  0.948315525\n",
            "Epoch:  0135 cost=  0.883953130\n",
            "Epoch:  0136 cost=  0.840313566\n",
            "Epoch:  0137 cost=  0.992231166\n",
            "Epoch:  0138 cost=  0.948674595\n",
            "Epoch:  0139 cost=  0.927989948\n",
            "Epoch:  0140 cost=  0.841945791\n",
            "Epoch:  0141 cost=  0.938861799\n",
            "Epoch:  0142 cost=  0.925740278\n",
            "Epoch:  0143 cost=  0.872959805\n",
            "Epoch:  0144 cost=  0.822843969\n",
            "Epoch:  0145 cost=  0.884125805\n",
            "Epoch:  0146 cost=  0.843476200\n",
            "Epoch:  0147 cost=  0.839192045\n",
            "Epoch:  0148 cost=  0.860943067\n",
            "Epoch:  0149 cost=  0.852327144\n",
            "Epoch:  0150 cost=  0.809700942\n",
            "Epoch:  0151 cost=  0.856992269\n",
            "Epoch:  0152 cost=  0.871002781\n",
            "Epoch:  0153 cost=  0.849284053\n",
            "Epoch:  0154 cost=  0.803854430\n",
            "Epoch:  0155 cost=  0.790126324\n",
            "Epoch:  0156 cost=  0.830491459\n",
            "Epoch:  0157 cost=  0.797728133\n",
            "Epoch:  0158 cost=  0.860120320\n",
            "Epoch:  0159 cost=  0.860895836\n",
            "Epoch:  0160 cost=  0.861785412\n",
            "Epoch:  0161 cost=  0.834027505\n",
            "Epoch:  0162 cost=  0.823226273\n",
            "Epoch:  0163 cost=  0.880238533\n",
            "Epoch:  0164 cost=  0.776399815\n",
            "Epoch:  0165 cost=  0.885611570\n",
            "Epoch:  0166 cost=  0.862248909\n",
            "Epoch:  0167 cost=  0.830150461\n",
            "Epoch:  0168 cost=  0.838471055\n",
            "Epoch:  0169 cost=  0.786972082\n",
            "Epoch:  0170 cost=  0.736886644\n",
            "Epoch:  0171 cost=  0.826690567\n",
            "Epoch:  0172 cost=  0.777106631\n",
            "Epoch:  0173 cost=  0.810427308\n",
            "Epoch:  0174 cost=  0.753283668\n",
            "Epoch:  0175 cost=  0.807652295\n",
            "Epoch:  0176 cost=  0.845440829\n",
            "Epoch:  0177 cost=  0.770741177\n",
            "Epoch:  0178 cost=  0.847474241\n",
            "Epoch:  0179 cost=  0.711467445\n",
            "Epoch:  0180 cost=  0.762638688\n",
            "Epoch:  0181 cost=  0.742849922\n",
            "Epoch:  0182 cost=  0.730778027\n",
            "Epoch:  0183 cost=  0.793795109\n",
            "Epoch:  0184 cost=  0.716236508\n",
            "Epoch:  0185 cost=  0.781612349\n",
            "Epoch:  0186 cost=  0.794084907\n",
            "Epoch:  0187 cost=  0.721146309\n",
            "Epoch:  0188 cost=  0.764791143\n",
            "Epoch:  0189 cost=  0.690638816\n",
            "Epoch:  0190 cost=  0.736965525\n",
            "Epoch:  0191 cost=  0.696327925\n",
            "Epoch:  0192 cost=  0.739128613\n",
            "Epoch:  0193 cost=  0.813836873\n",
            "Epoch:  0194 cost=  0.689917564\n",
            "Epoch:  0195 cost=  0.728119302\n",
            "Epoch:  0196 cost=  0.694190085\n",
            "Epoch:  0197 cost=  0.749549484\n",
            "Epoch:  0198 cost=  0.799570680\n",
            "Epoch:  0199 cost=  0.711475956\n",
            "Epoch:  0200 cost=  0.739254570\n",
            "Epoch:  0201 cost=  0.705283439\n",
            "Epoch:  0202 cost=  0.770570230\n",
            "Epoch:  0203 cost=  0.787539232\n",
            "Epoch:  0204 cost=  0.708408153\n",
            "Epoch:  0205 cost=  0.687021446\n",
            "Epoch:  0206 cost=  0.662925172\n",
            "Epoch:  0207 cost=  0.753653407\n",
            "Epoch:  0208 cost=  0.678732836\n",
            "Epoch:  0209 cost=  0.620589411\n",
            "Epoch:  0210 cost=  0.783877027\n",
            "Epoch:  0211 cost=  0.688837373\n",
            "Epoch:  0212 cost=  0.728781772\n",
            "Epoch:  0213 cost=  0.750373662\n",
            "Epoch:  0214 cost=  0.709082067\n",
            "Epoch:  0215 cost=  0.706062269\n",
            "Epoch:  0216 cost=  0.657521021\n",
            "Epoch:  0217 cost=  0.770499599\n",
            "Epoch:  0218 cost=  0.763764298\n",
            "Epoch:  0219 cost=  0.704669797\n",
            "Epoch:  0220 cost=  0.674127853\n",
            "Epoch:  0221 cost=  0.666911292\n",
            "Epoch:  0222 cost=  0.665041792\n",
            "Epoch:  0223 cost=  0.694362855\n",
            "Epoch:  0224 cost=  0.637908775\n",
            "Epoch:  0225 cost=  0.683179080\n",
            "Epoch:  0226 cost=  0.649088097\n",
            "Epoch:  0227 cost=  0.699967492\n",
            "Epoch:  0228 cost=  0.698228574\n",
            "Epoch:  0229 cost=  0.683879614\n",
            "Epoch:  0230 cost=  0.671896005\n",
            "Epoch:  0231 cost=  0.619612551\n",
            "Epoch:  0232 cost=  0.704808354\n",
            "Epoch:  0233 cost=  0.733209181\n",
            "Epoch:  0234 cost=  0.595548779\n",
            "Epoch:  0235 cost=  0.648757172\n",
            "Epoch:  0236 cost=  0.675830615\n",
            "Epoch:  0237 cost=  0.690288436\n",
            "Epoch:  0238 cost=  0.654578841\n",
            "Epoch:  0239 cost=  0.637529683\n",
            "Epoch:  0240 cost=  0.588575840\n",
            "Epoch:  0241 cost=  0.633922434\n",
            "Epoch:  0242 cost=  0.623977613\n",
            "Epoch:  0243 cost=  0.634591854\n",
            "Epoch:  0244 cost=  0.584158862\n",
            "Epoch:  0245 cost=  0.609802634\n",
            "Epoch:  0246 cost=  0.654725528\n",
            "Epoch:  0247 cost=  0.649327612\n",
            "Epoch:  0248 cost=  0.615610981\n",
            "Epoch:  0249 cost=  0.586194557\n",
            "Epoch:  0250 cost=  0.616981488\n",
            "Epoch:  0251 cost=  0.629612279\n",
            "Epoch:  0252 cost=  0.610787070\n",
            "Epoch:  0253 cost=  0.614133930\n",
            "Epoch:  0254 cost=  0.607481772\n",
            "Epoch:  0255 cost=  0.659143341\n",
            "Epoch:  0256 cost=  0.616077673\n",
            "Epoch:  0257 cost=  0.619266820\n",
            "Epoch:  0258 cost=  0.627422118\n",
            "Epoch:  0259 cost=  0.644923902\n",
            "Epoch:  0260 cost=  0.673503745\n",
            "Epoch:  0261 cost=  0.538966686\n",
            "Epoch:  0262 cost=  0.601477468\n",
            "Epoch:  0263 cost=  0.573111856\n",
            "Epoch:  0264 cost=  0.543788946\n",
            "Epoch:  0265 cost=  0.668549705\n",
            "Epoch:  0266 cost=  0.580870438\n",
            "Epoch:  0267 cost=  0.620171142\n",
            "Epoch:  0268 cost=  0.534449571\n",
            "Epoch:  0269 cost=  0.545051712\n",
            "Epoch:  0270 cost=  0.616556823\n",
            "Epoch:  0271 cost=  0.528314036\n",
            "Epoch:  0272 cost=  0.604954213\n",
            "Epoch:  0273 cost=  0.559967172\n",
            "Epoch:  0274 cost=  0.575957644\n",
            "Epoch:  0275 cost=  0.551401752\n",
            "Epoch:  0276 cost=  0.558301651\n",
            "Epoch:  0277 cost=  0.635390472\n",
            "Epoch:  0278 cost=  0.538182831\n",
            "Epoch:  0279 cost=  0.566766131\n",
            "Epoch:  0280 cost=  0.605202603\n",
            "Accuracy:  0.7919192\n",
            "Label:  [6]\n",
            "Prediction:  [6]\n"
          ],
          "name": "stdout"
        },
        {
          "output_type": "display_data",
          "data": {
            "image/png": "[encoded data removed]",
            "text/plain": [
              "<Figure size 432x288 with 1 Axes>"
            ]
          },
          "metadata": {
            "tags": [],
            "needs_background": "light"
          }
        }
      ]
    },
    {
      "cell_type": "code",
      "metadata": {
        "id": "FPVjf8Ls3VVR",
        "colab_type": "code",
        "colab": {}
      },
      "source": [
        ""
      ],
      "execution_count": 0,
      "outputs": []
    }
  ]
}